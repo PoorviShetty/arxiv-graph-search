{
  "cells": [
    {
      "cell_type": "code",
      "execution_count": 38,
      "metadata": {
        "colab": {
          "base_uri": "https://localhost:8080/"
        },
        "id": "NWMAHT37BjM3",
        "outputId": "68ee9fd2-08d6-457b-bb22-af46a039582b"
      },
      "outputs": [],
      "source": [
        "# !pip install neomodel scikit-learn\n",
        "# !pip install spacy\n",
        "# !python -m spacy download en_core_web_sm"
      ]
    },
    {
      "cell_type": "code",
      "execution_count": 26,
      "metadata": {
        "colab": {
          "base_uri": "https://localhost:8080/",
          "height": 526
        },
        "id": "Lfod5w76BYdG",
        "outputId": "d2632eca-82bd-474b-f278-2236e1b9b25a"
      },
      "outputs": [],
      "source": [
        "from neomodel import (StructuredNode, StringProperty, RelationshipTo, db, config, UniqueIdProperty)\n",
        "from sklearn.feature_extraction.text import TfidfVectorizer\n",
        "import numpy as np\n",
        "import spacy\n",
        "\n",
        "nlp = spacy.load('en_core_web_sm')\n",
        "\n",
        "config.DATABASE_URL = \"bolt://neo4j:<PASSWORD>@localhost:7687\"\n",
        "\n",
        "# #Define the Entity Node\n",
        "# class Entity(StructuredNode):\n",
        "#     entity_id = UniqueIdProperty()\n",
        "#     name = StringProperty(unique_index=True)\n",
        "#     label = StringProperty()\n",
        "\n",
        "# # Define the Paper Node\n",
        "# class Paper(StructuredNode):\n",
        "#     paper_id = UniqueIdProperty() \n",
        "#     title = StringProperty()\n",
        "#     abstract = StringProperty()\n",
        "#     mentions = RelationshipTo(Entity, \"MENTIONS\")"
      ]
    },
    {
      "cell_type": "code",
      "execution_count": 16,
      "metadata": {
        "id": "goz9P_sMCLvt"
      },
      "outputs": [],
      "source": [
        "def extract_keywords_tfidf(abstracts, top_n=5):\n",
        "    vectorizer = TfidfVectorizer(stop_words='english')\n",
        "    tfidf_matrix = vectorizer.fit_transform(abstracts)\n",
        "    feature_names = vectorizer.get_feature_names_out()\n",
        "\n",
        "    top_keywords = []\n",
        "    for i in range(tfidf_matrix.shape[0]):\n",
        "        tfidf_scores = tfidf_matrix[i].toarray().flatten()\n",
        "        top_indices = np.argsort(tfidf_scores)[-top_n:]\n",
        "        top_features = [feature_names[idx] for idx in top_indices]\n",
        "        top_keywords.append(top_features)\n",
        "    \n",
        "    return top_keywords"
      ]
    },
    {
      "cell_type": "code",
      "execution_count": 32,
      "metadata": {
        "id": "co1-Iz0uDOPr"
      },
      "outputs": [],
      "source": [
        "def process_papers():\n",
        "    query = \"MATCH (p:Paper) RETURN p.paper_id AS paper_id, p.title AS title, p.abstract AS abstract\"\n",
        "    results, _ = db.cypher_query(query)\n",
        "    \n",
        "    paper_ids = [result[0] for result in results]\n",
        "    abstracts = [result[2] for result in results]\n",
        "    \n",
        "    # Extract keywords using TF-IDF\n",
        "    top_keywords = extract_keywords_tfidf(abstracts)\n",
        "    \n",
        "    for paper_id, keywords in zip(paper_ids, top_keywords):\n",
        "        # Create or get the Paper node\n",
        "        paper_node = Paper.nodes.get_or_none(paper_id=paper_id)\n",
        "        if paper_node:\n",
        "            for keyword in keywords:\n",
        "                # Create or get the Entity node for each keyword\n",
        "                entity_node = Entity.nodes.get_or_none(name=keyword)\n",
        "                if not entity_node:\n",
        "                    entity_node = Entity(name=keyword).save()\n",
        "                \n",
        "                # Create the MENTIONS relationship if it doesn't exist\n",
        "                if not paper_node.mentions.is_connected(entity_node):\n",
        "                    paper_node.mentions.connect(entity_node)"
      ]
    },
    {
      "cell_type": "code",
      "execution_count": 34,
      "metadata": {
        "id": "nUZbR2v9DRw2"
      },
      "outputs": [],
      "source": [
        "process_papers()"
      ]
    },
    {
      "cell_type": "code",
      "execution_count": 35,
      "metadata": {
        "id": "4-otfjaLDVbK"
      },
      "outputs": [],
      "source": [
        "def process_query(query):\n",
        "    doc = nlp(query)\n",
        "    keywords = [token.text.lower() for token in doc if token.pos_ in ['NOUN', 'PROPN', 'ADJ']]\n",
        "    return keywords\n",
        "\n",
        "def search(query):\n",
        "    entities = process_query(query)\n",
        "    print(f\"Extracted Entities: {entities}\")\n",
        "    \n",
        "    query = \"\"\"\n",
        "    MATCH (p:Paper)-[:MENTIONS]->(e:Entity)\n",
        "    WHERE e.name IN $entities\n",
        "    RETURN p.title AS title, p.abstract AS abstract, COLLECT(e.name) AS entities\n",
        "    \"\"\"\n",
        "    results, _ = db.cypher_query(query, {'entities': entities})\n",
        "    \n",
        "    return [{\"title\": title, \"abstract\": abstract, \"entities\": entities} for title, abstract, entities in results]"
      ]
    },
    {
      "cell_type": "code",
      "execution_count": 37,
      "metadata": {},
      "outputs": [
        {
          "name": "stdout",
          "output_type": "stream",
          "text": [
            "Extracted Entities: ['matrices']\n",
            "Title: A general approach to few-cycle intense laser interactions with complex\n",
            "  atoms\n",
            "Abstract:   A general {it ab-initio} and non-perturbative method to solve the\n",
            "time-dependent Schrodinger equation (TDSE) for the interaction of a strong\n",
            "attosecond laser pulse with a general atom, i.e., beyond the models of\n",
            "quasi-one-electron or quasi-two-electron targets, is described. The field-free\n",
            "Hamiltonian and the dipole matrices are generated using a flexible $B$-spline\n",
            "$R$-matrix method. This numerical implementation enables us to construct\n",
            "term-dependent, non-orthogonal sets of one-electron orbitals for the bound and\n",
            "continuum electrons. The solution of the TDSE is propagated in time using the\n",
            "Arnoldi-Lanczos method, which does not require the diagonalization of any large\n",
            "matrices. The method is illustrated by an application to the multi-photon\n",
            "excitation and ionization of Ne atoms. Good agreement with $R$-matrix Floquet\n",
            "calculations for the generalized cross sections for two-photon ionization is\n",
            "achieved.\n",
            "\n",
            "Entities: matrices\n",
            "--------------------------------------------------------------------------------\n",
            "Title: Quantum Deformations of Relativistic Symmetries\n",
            "Abstract:   We discussed quantum deformations of D=4 Lorentz and Poincare algebras. In\n",
            "the case of Poincare algebra it is shown that almost all classical r-matrices\n",
            "of S. Zakrzewski classification correspond to twisted deformations of Abelian\n",
            "and Jordanian types. A part of twists corresponding to the r-matrices of\n",
            "Zakrzewski classification are given in explicit form.\n",
            "\n",
            "Entities: matrices\n",
            "--------------------------------------------------------------------------------\n",
            "Title: The alternating sign matrix polytope\n",
            "Abstract:   We define the alternating sign matrix polytope as the convex hull of nxn\n",
            "alternating sign matrices and prove its equivalent description in terms of\n",
            "inequalities. This is analogous to the well known result of Birkhoff and von\n",
            "Neumann that the convex hull of the permutation matrices equals the set of all\n",
            "nonnegative doubly stochastic matrices. We count the facets and vertices of the\n",
            "alternating sign matrix polytope and describe its projection to the\n",
            "permutohedron as well as give a complete characterization of its face lattice\n",
            "in terms of modified square ice configurations. Furthermore we prove that the\n",
            "dimension of any face can be easily determined from this characterization.\n",
            "\n",
            "Entities: matrices\n",
            "--------------------------------------------------------------------------------\n"
          ]
        }
      ],
      "source": [
        "search_query = \"Find something about matrices\"\n",
        "search_results = search(search_query)\n",
        "\n",
        "for result in search_results:\n",
        "    print(f\"Title: {result['title']}\")\n",
        "    print(f\"Abstract: {result['abstract']}\")\n",
        "    print(f\"Entities: {', '.join(result['entities'])}\")\n",
        "    print(\"-\" * 80)"
      ]
    }
  ],
  "metadata": {
    "colab": {
      "provenance": []
    },
    "kernelspec": {
      "display_name": "Python 3",
      "name": "python3"
    },
    "language_info": {
      "codemirror_mode": {
        "name": "ipython",
        "version": 3
      },
      "file_extension": ".py",
      "mimetype": "text/x-python",
      "name": "python",
      "nbconvert_exporter": "python",
      "pygments_lexer": "ipython3",
      "version": "3.12.2"
    }
  },
  "nbformat": 4,
  "nbformat_minor": 0
}
